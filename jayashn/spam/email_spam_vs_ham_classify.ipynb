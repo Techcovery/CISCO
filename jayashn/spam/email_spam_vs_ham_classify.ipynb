{
 "cells": [
  {
   "cell_type": "code",
   "execution_count": 4,
   "metadata": {},
   "outputs": [],
   "source": [
    "import pandas as pd\n",
    "import os, sys, email\n",
    "import seaborn as sns\n",
    "import matplotlib.pyplot as plt\n",
    "import string\n",
    "from nltk.corpus import stopwords\n",
    "from sklearn.feature_extraction.text import CountVectorizer"
   ]
  },
  {
   "cell_type": "code",
   "execution_count": 5,
   "metadata": {},
   "outputs": [
    {
     "name": "stdout",
     "output_type": "stream",
     "text": [
      "(52076, 3)\n"
     ]
    },
    {
     "data": {
      "text/html": [
       "<div>\n",
       "<style scoped>\n",
       "    .dataframe tbody tr th:only-of-type {\n",
       "        vertical-align: middle;\n",
       "    }\n",
       "\n",
       "    .dataframe tbody tr th {\n",
       "        vertical-align: top;\n",
       "    }\n",
       "\n",
       "    .dataframe thead th {\n",
       "        text-align: right;\n",
       "    }\n",
       "</style>\n",
       "<table border=\"1\" class=\"dataframe\">\n",
       "  <thead>\n",
       "    <tr style=\"text-align: right;\">\n",
       "      <th></th>\n",
       "      <th>Unnamed: 0</th>\n",
       "      <th>text</th>\n",
       "      <th>class</th>\n",
       "    </tr>\n",
       "  </thead>\n",
       "  <tbody>\n",
       "    <tr>\n",
       "      <td>0</td>\n",
       "      <td>beck-s/mgmt_summary/1</td>\n",
       "      <td>Message-ID: &lt;26915956.1075855881514.JavaMail.e...</td>\n",
       "      <td>ham</td>\n",
       "    </tr>\n",
       "    <tr>\n",
       "      <td>1</td>\n",
       "      <td>beck-s/mgmt_summary/4</td>\n",
       "      <td>Message-ID: &lt;21691016.1075855881596.JavaMail.e...</td>\n",
       "      <td>ham</td>\n",
       "    </tr>\n",
       "    <tr>\n",
       "      <td>2</td>\n",
       "      <td>beck-s/mgmt_summary/3</td>\n",
       "      <td>Message-ID: &lt;21487147.1075855881568.JavaMail.e...</td>\n",
       "      <td>ham</td>\n",
       "    </tr>\n",
       "    <tr>\n",
       "      <td>3</td>\n",
       "      <td>beck-s/mgmt_summary/2</td>\n",
       "      <td>Message-ID: &lt;29181475.1075855881541.JavaMail.e...</td>\n",
       "      <td>ham</td>\n",
       "    </tr>\n",
       "    <tr>\n",
       "      <td>4</td>\n",
       "      <td>beck-s/mgmt_summary/5</td>\n",
       "      <td>Message-ID: &lt;25567863.1075855881620.JavaMail.e...</td>\n",
       "      <td>ham</td>\n",
       "    </tr>\n",
       "  </tbody>\n",
       "</table>\n",
       "</div>"
      ],
      "text/plain": [
       "              Unnamed: 0                                               text  \\\n",
       "0  beck-s/mgmt_summary/1  Message-ID: <26915956.1075855881514.JavaMail.e...   \n",
       "1  beck-s/mgmt_summary/4  Message-ID: <21691016.1075855881596.JavaMail.e...   \n",
       "2  beck-s/mgmt_summary/3  Message-ID: <21487147.1075855881568.JavaMail.e...   \n",
       "3  beck-s/mgmt_summary/2  Message-ID: <29181475.1075855881541.JavaMail.e...   \n",
       "4  beck-s/mgmt_summary/5  Message-ID: <25567863.1075855881620.JavaMail.e...   \n",
       "\n",
       "  class  \n",
       "0   ham  \n",
       "1   ham  \n",
       "2   ham  \n",
       "3   ham  \n",
       "4   ham  "
      ]
     },
     "execution_count": 5,
     "metadata": {},
     "output_type": "execute_result"
    }
   ],
   "source": [
    "emails_df = pd.read_csv('raw-email/my_raw_email.csv')\n",
    "print(emails_df.shape)\n",
    "emails_df.head()"
   ]
  },
  {
   "cell_type": "code",
   "execution_count": 6,
   "metadata": {},
   "outputs": [],
   "source": [
    "def get_text_from_email(msg):\n",
    "    '''To get the content from email objects'''\n",
    "    parts = []\n",
    "    for part in msg.walk():\n",
    "        if part.get_content_type() == 'text/plain':\n",
    "            parts.append( part.get_payload() )\n",
    "    return ''.join(parts)\n",
    "\n",
    "def split_email_addresses(line):\n",
    "    '''To separate multiple email addresses'''\n",
    "    if line:\n",
    "        addrs = line.split(',')\n",
    "        addrs = frozenset(map(lambda x: x.strip(), addrs))\n",
    "    else:\n",
    "        addrs = None\n",
    "    return addrs"
   ]
  },
  {
   "cell_type": "code",
   "execution_count": 7,
   "metadata": {},
   "outputs": [
    {
     "data": {
      "text/plain": [
       "Unnamed: 0     0\n",
       "text          14\n",
       "class          0\n",
       "dtype: int64"
      ]
     },
     "execution_count": 7,
     "metadata": {},
     "output_type": "execute_result"
    }
   ],
   "source": [
    "emails_df.isnull().sum()"
   ]
  },
  {
   "cell_type": "code",
   "execution_count": 8,
   "metadata": {},
   "outputs": [],
   "source": [
    "emails_df.dropna(inplace = True)"
   ]
  },
  {
   "cell_type": "code",
   "execution_count": 9,
   "metadata": {},
   "outputs": [
    {
     "name": "stdout",
     "output_type": "stream",
     "text": [
      "['Message-ID', 'Date', 'From', 'To', 'Subject', 'Cc', 'Mime-Version', 'Content-Type', 'Content-Transfer-Encoding', 'Bcc', 'X-From', 'X-To', 'X-cc', 'X-bcc', 'X-Origin', 'X-FileName']\n"
     ]
    }
   ],
   "source": [
    "messages = list(map(email.message_from_string, emails_df['text']))\n",
    "#print (messages)\n",
    "\n",
    "emails_df.drop('text', axis=1, inplace=True)\n",
    "# Get fields from parsed email objects\n",
    "keys = messages[0].keys()\n",
    "print (keys)\n",
    "for key in keys:\n",
    "    emails_df[key] = [doc[key] for doc in messages]\n",
    "# Parse content from emails\n",
    "emails_df['content'] = list(map(get_text_from_email, messages))\n",
    "#Split multiple email addresses\n",
    "emails_df['From'] = emails_df['From'].map(split_email_addresses)\n",
    "emails_df['To'] = emails_df['To'].map(split_email_addresses)\n",
    "\n",
    "# Extract email\n",
    "#the root of 'file' as 'user'\n",
    "#emails_df['user'] = emails_df['file'].map(lambda x:x.split('/')[0])\n",
    "del messages\n"
   ]
  },
  {
   "cell_type": "code",
   "execution_count": 10,
   "metadata": {},
   "outputs": [
    {
     "data": {
      "text/plain": [
       "Index(['Unnamed: 0', 'class', 'Message-ID', 'Date', 'From', 'To', 'Subject',\n",
       "       'Cc', 'Mime-Version', 'Content-Type', 'Content-Transfer-Encoding',\n",
       "       'Bcc', 'X-From', 'X-To', 'X-cc', 'X-bcc', 'X-Origin', 'X-FileName',\n",
       "       'content'],\n",
       "      dtype='object')"
      ]
     },
     "execution_count": 10,
     "metadata": {},
     "output_type": "execute_result"
    }
   ],
   "source": [
    "emails_df.columns"
   ]
  },
  {
   "cell_type": "code",
   "execution_count": 11,
   "metadata": {},
   "outputs": [],
   "source": [
    "emails_df = emails_df.set_index('Message-ID').drop(['Mime-Version', 'Content-Type', 'Content-Transfer-Encoding', 'Bcc', 'X-From', 'X-To', 'X-cc', 'X-bcc', 'X-Origin', 'X-FileName', 'Cc'], axis=1)"
   ]
  },
  {
   "cell_type": "code",
   "execution_count": 12,
   "metadata": {},
   "outputs": [
    {
     "data": {
      "text/plain": [
       "Index(['Unnamed: 0', 'class', 'Date', 'From', 'To', 'Subject', 'content'], dtype='object')"
      ]
     },
     "execution_count": 12,
     "metadata": {},
     "output_type": "execute_result"
    }
   ],
   "source": [
    "emails_df.columns"
   ]
  },
  {
   "cell_type": "code",
   "execution_count": 13,
   "metadata": {},
   "outputs": [
    {
     "data": {
      "text/plain": [
       "Message-ID\n",
       "<26915956.1075855881514.JavaMail.evans@thyme>                                    beck-s/mgmt_summary/1\n",
       "<21691016.1075855881596.JavaMail.evans@thyme>                                    beck-s/mgmt_summary/4\n",
       "<21487147.1075855881568.JavaMail.evans@thyme>                                    beck-s/mgmt_summary/3\n",
       "<29181475.1075855881541.JavaMail.evans@thyme>                                    beck-s/mgmt_summary/2\n",
       "<25567863.1075855881620.JavaMail.evans@thyme>                                    beck-s/mgmt_summary/5\n",
       "                                                                           ...                        \n",
       "<000071251d3a$00003d4c$00003631@mailhost.trip.to>    SH/SA/20021010_spam/0361.eb828b44c428fcecd4e95...\n",
       "<200207190806.g6J86er20831@www>                      SH/SA/20021010_spam/0039.256602e2cb5a5b373bdd1...\n",
       "<p4kx9.mt1pdr@prodigy.net>                           SH/SA/20021010_spam/0312.a0e7f2633bd0ceaddf16f...\n",
       "<000c52d43aad$4242a0b5$4ad47ca8@fyiink>              SH/SA/20021010_spam/0116.8e13644b995f98dbab198...\n",
       "<00006250709f$000004fe$000076cd@er>                  SH/SA/20021010_spam/0496.e995facc5d5bc6d3f3a85...\n",
       "Name: Unnamed: 0, Length: 52062, dtype: object"
      ]
     },
     "execution_count": 13,
     "metadata": {},
     "output_type": "execute_result"
    }
   ],
   "source": [
    "emails_df['Unnamed: 0']"
   ]
  },
  {
   "cell_type": "code",
   "execution_count": 14,
   "metadata": {},
   "outputs": [],
   "source": [
    "emails_df = emails_df.drop(['Unnamed: 0'], axis=1)"
   ]
  },
  {
   "cell_type": "code",
   "execution_count": 15,
   "metadata": {},
   "outputs": [
    {
     "data": {
      "text/plain": [
       "Index(['class', 'Date', 'From', 'To', 'Subject', 'content'], dtype='object')"
      ]
     },
     "execution_count": 15,
     "metadata": {},
     "output_type": "execute_result"
    }
   ],
   "source": [
    "emails_df.columns"
   ]
  },
  {
   "cell_type": "code",
   "execution_count": 16,
   "metadata": {},
   "outputs": [],
   "source": [
    "emails_df['label'] = emails_df['class']\n",
    "emails_df = emails_df.drop(['class'], axis=1)"
   ]
  },
  {
   "cell_type": "code",
   "execution_count": 17,
   "metadata": {},
   "outputs": [
    {
     "data": {
      "text/plain": [
       "Index(['Date', 'From', 'To', 'Subject', 'content', 'label'], dtype='object')"
      ]
     },
     "execution_count": 17,
     "metadata": {},
     "output_type": "execute_result"
    }
   ],
   "source": [
    "emails_df.columns"
   ]
  },
  {
   "cell_type": "code",
   "execution_count": 18,
   "metadata": {},
   "outputs": [
    {
     "data": {
      "image/png": "[encoded data removed]",
      "text/plain": [
       "<Figure size 864x288 with 2 Axes>"
      ]
     },
     "metadata": {},
     "output_type": "display_data"
    }
   ],
   "source": [
    "emails_df['length'] = emails_df['content'].apply(len)\n",
    "sns.set()\n",
    "emails_df.hist(column='length', by='label', bins=10,figsize=(12,4));"
   ]
  },
  {
   "cell_type": "code",
   "execution_count": 19,
   "metadata": {},
   "outputs": [
    {
     "data": {
      "text/plain": [
       "Index(['Date', 'From', 'To', 'Subject', 'content', 'label', 'length'], dtype='object')"
      ]
     },
     "execution_count": 19,
     "metadata": {},
     "output_type": "execute_result"
    }
   ],
   "source": [
    "emails_df.columns"
   ]
  },
  {
   "cell_type": "code",
   "execution_count": 20,
   "metadata": {},
   "outputs": [
    {
     "data": {
      "text/html": [
       "<div>\n",
       "<style scoped>\n",
       "    .dataframe tbody tr th:only-of-type {\n",
       "        vertical-align: middle;\n",
       "    }\n",
       "\n",
       "    .dataframe tbody tr th {\n",
       "        vertical-align: top;\n",
       "    }\n",
       "\n",
       "    .dataframe thead th {\n",
       "        text-align: right;\n",
       "    }\n",
       "</style>\n",
       "<table border=\"1\" class=\"dataframe\">\n",
       "  <thead>\n",
       "    <tr style=\"text-align: right;\">\n",
       "      <th></th>\n",
       "      <th>Date</th>\n",
       "      <th>From</th>\n",
       "      <th>To</th>\n",
       "      <th>Subject</th>\n",
       "      <th>content</th>\n",
       "      <th>label</th>\n",
       "      <th>length</th>\n",
       "    </tr>\n",
       "    <tr>\n",
       "      <th>Message-ID</th>\n",
       "      <th></th>\n",
       "      <th></th>\n",
       "      <th></th>\n",
       "      <th></th>\n",
       "      <th></th>\n",
       "      <th></th>\n",
       "      <th></th>\n",
       "    </tr>\n",
       "  </thead>\n",
       "  <tbody>\n",
       "    <tr>\n",
       "      <td>&lt;26915956.1075855881514.JavaMail.evans@thyme&gt;</td>\n",
       "      <td>Fri, 28 Jul 2000 07:09:00 -0700 (PDT)</td>\n",
       "      <td>(darin.talley@enron.com)</td>\n",
       "      <td>(edward.ondarza@enron.com, mark.tawney@enron.c...</td>\n",
       "      <td>Mgmt Summary &amp; Hot List</td>\n",
       "      <td>Attached are the Mgmt. Summary, Hot List, and ...</td>\n",
       "      <td>ham</td>\n",
       "      <td>186</td>\n",
       "    </tr>\n",
       "    <tr>\n",
       "      <td>&lt;21691016.1075855881596.JavaMail.evans@thyme&gt;</td>\n",
       "      <td>Fri, 9 Jun 2000 07:35:00 -0700 (PDT)</td>\n",
       "      <td>(darin.talley@enron.com)</td>\n",
       "      <td>(edward.ondarza@enron.com, mark.tawney@enron.c...</td>\n",
       "      <td>Mgmt Summary &amp; HotList</td>\n",
       "      <td>Attached are the Mgmt Summary, Hot List and Me...</td>\n",
       "      <td>ham</td>\n",
       "      <td>87</td>\n",
       "    </tr>\n",
       "    <tr>\n",
       "      <td>&lt;21487147.1075855881568.JavaMail.evans@thyme&gt;</td>\n",
       "      <td>Fri, 16 Jun 2000 07:31:00 -0700 (PDT)</td>\n",
       "      <td>(darin.talley@enron.com)</td>\n",
       "      <td>(edward.ondarza@enron.com, mark.tawney@enron.c...</td>\n",
       "      <td>Mgmt Summary &amp; Hot List</td>\n",
       "      <td>Attached are the Mgmt Summary, Hot List and Me...</td>\n",
       "      <td>ham</td>\n",
       "      <td>84</td>\n",
       "    </tr>\n",
       "    <tr>\n",
       "      <td>&lt;29181475.1075855881541.JavaMail.evans@thyme&gt;</td>\n",
       "      <td>Fri, 23 Jun 2000 05:58:00 -0700 (PDT)</td>\n",
       "      <td>(darin.talley@enron.com)</td>\n",
       "      <td>(edward.ondarza@enron.com, mark.tawney@enron.c...</td>\n",
       "      <td>Mgmt Reports</td>\n",
       "      <td>Attached are the management reports reflecting...</td>\n",
       "      <td>ham</td>\n",
       "      <td>73</td>\n",
       "    </tr>\n",
       "    <tr>\n",
       "      <td>&lt;25567863.1075855881620.JavaMail.evans@thyme&gt;</td>\n",
       "      <td>Mon, 17 Apr 2000 08:30:00 -0700 (PDT)</td>\n",
       "      <td>(trey.hardy@enron.com)</td>\n",
       "      <td>(edward.ondarza@enron.com, mark.tawney@enron.c...</td>\n",
       "      <td>Re: Management Summary 04/17</td>\n",
       "      <td>Trey Hardy\\n04/17/2000 10:32 AM\\nTo: Cliff Bax...</td>\n",
       "      <td>ham</td>\n",
       "      <td>832</td>\n",
       "    </tr>\n",
       "  </tbody>\n",
       "</table>\n",
       "</div>"
      ],
      "text/plain": [
       "                                                                                Date  \\\n",
       "Message-ID                                                                             \n",
       "<26915956.1075855881514.JavaMail.evans@thyme>  Fri, 28 Jul 2000 07:09:00 -0700 (PDT)   \n",
       "<21691016.1075855881596.JavaMail.evans@thyme>   Fri, 9 Jun 2000 07:35:00 -0700 (PDT)   \n",
       "<21487147.1075855881568.JavaMail.evans@thyme>  Fri, 16 Jun 2000 07:31:00 -0700 (PDT)   \n",
       "<29181475.1075855881541.JavaMail.evans@thyme>  Fri, 23 Jun 2000 05:58:00 -0700 (PDT)   \n",
       "<25567863.1075855881620.JavaMail.evans@thyme>  Mon, 17 Apr 2000 08:30:00 -0700 (PDT)   \n",
       "\n",
       "                                                                   From  \\\n",
       "Message-ID                                                                \n",
       "<26915956.1075855881514.JavaMail.evans@thyme>  (darin.talley@enron.com)   \n",
       "<21691016.1075855881596.JavaMail.evans@thyme>  (darin.talley@enron.com)   \n",
       "<21487147.1075855881568.JavaMail.evans@thyme>  (darin.talley@enron.com)   \n",
       "<29181475.1075855881541.JavaMail.evans@thyme>  (darin.talley@enron.com)   \n",
       "<25567863.1075855881620.JavaMail.evans@thyme>    (trey.hardy@enron.com)   \n",
       "\n",
       "                                                                                              To  \\\n",
       "Message-ID                                                                                         \n",
       "<26915956.1075855881514.JavaMail.evans@thyme>  (edward.ondarza@enron.com, mark.tawney@enron.c...   \n",
       "<21691016.1075855881596.JavaMail.evans@thyme>  (edward.ondarza@enron.com, mark.tawney@enron.c...   \n",
       "<21487147.1075855881568.JavaMail.evans@thyme>  (edward.ondarza@enron.com, mark.tawney@enron.c...   \n",
       "<29181475.1075855881541.JavaMail.evans@thyme>  (edward.ondarza@enron.com, mark.tawney@enron.c...   \n",
       "<25567863.1075855881620.JavaMail.evans@thyme>  (edward.ondarza@enron.com, mark.tawney@enron.c...   \n",
       "\n",
       "                                                                    Subject  \\\n",
       "Message-ID                                                                    \n",
       "<26915956.1075855881514.JavaMail.evans@thyme>       Mgmt Summary & Hot List   \n",
       "<21691016.1075855881596.JavaMail.evans@thyme>        Mgmt Summary & HotList   \n",
       "<21487147.1075855881568.JavaMail.evans@thyme>       Mgmt Summary & Hot List   \n",
       "<29181475.1075855881541.JavaMail.evans@thyme>                  Mgmt Reports   \n",
       "<25567863.1075855881620.JavaMail.evans@thyme>  Re: Management Summary 04/17   \n",
       "\n",
       "                                                                                         content  \\\n",
       "Message-ID                                                                                         \n",
       "<26915956.1075855881514.JavaMail.evans@thyme>  Attached are the Mgmt. Summary, Hot List, and ...   \n",
       "<21691016.1075855881596.JavaMail.evans@thyme>  Attached are the Mgmt Summary, Hot List and Me...   \n",
       "<21487147.1075855881568.JavaMail.evans@thyme>  Attached are the Mgmt Summary, Hot List and Me...   \n",
       "<29181475.1075855881541.JavaMail.evans@thyme>  Attached are the management reports reflecting...   \n",
       "<25567863.1075855881620.JavaMail.evans@thyme>  Trey Hardy\\n04/17/2000 10:32 AM\\nTo: Cliff Bax...   \n",
       "\n",
       "                                              label  length  \n",
       "Message-ID                                                   \n",
       "<26915956.1075855881514.JavaMail.evans@thyme>   ham     186  \n",
       "<21691016.1075855881596.JavaMail.evans@thyme>   ham      87  \n",
       "<21487147.1075855881568.JavaMail.evans@thyme>   ham      84  \n",
       "<29181475.1075855881541.JavaMail.evans@thyme>   ham      73  \n",
       "<25567863.1075855881620.JavaMail.evans@thyme>   ham     832  "
      ]
     },
     "execution_count": 20,
     "metadata": {},
     "output_type": "execute_result"
    }
   ],
   "source": [
    "emails_df.head(5)"
   ]
  },
  {
   "cell_type": "code",
   "execution_count": 21,
   "metadata": {},
   "outputs": [
    {
     "data": {
      "text/html": [
       "<div>\n",
       "<style scoped>\n",
       "    .dataframe tbody tr th:only-of-type {\n",
       "        vertical-align: middle;\n",
       "    }\n",
       "\n",
       "    .dataframe tbody tr th {\n",
       "        vertical-align: top;\n",
       "    }\n",
       "\n",
       "    .dataframe thead tr th {\n",
       "        text-align: left;\n",
       "    }\n",
       "\n",
       "    .dataframe thead tr:last-of-type th {\n",
       "        text-align: right;\n",
       "    }\n",
       "</style>\n",
       "<table border=\"1\" class=\"dataframe\">\n",
       "  <thead>\n",
       "    <tr>\n",
       "      <th></th>\n",
       "      <th colspan=\"8\" halign=\"left\">length</th>\n",
       "    </tr>\n",
       "    <tr>\n",
       "      <th></th>\n",
       "      <th>count</th>\n",
       "      <th>mean</th>\n",
       "      <th>std</th>\n",
       "      <th>min</th>\n",
       "      <th>25%</th>\n",
       "      <th>50%</th>\n",
       "      <th>75%</th>\n",
       "      <th>max</th>\n",
       "    </tr>\n",
       "    <tr>\n",
       "      <th>label</th>\n",
       "      <th></th>\n",
       "      <th></th>\n",
       "      <th></th>\n",
       "      <th></th>\n",
       "      <th></th>\n",
       "      <th></th>\n",
       "      <th></th>\n",
       "      <th></th>\n",
       "    </tr>\n",
       "  </thead>\n",
       "  <tbody>\n",
       "    <tr>\n",
       "      <td>ham</td>\n",
       "      <td>19088.0</td>\n",
       "      <td>1685.631444</td>\n",
       "      <td>6243.643447</td>\n",
       "      <td>4.0</td>\n",
       "      <td>288.0</td>\n",
       "      <td>730.0</td>\n",
       "      <td>1612.00</td>\n",
       "      <td>266848.0</td>\n",
       "    </tr>\n",
       "    <tr>\n",
       "      <td>spam</td>\n",
       "      <td>32974.0</td>\n",
       "      <td>525.456663</td>\n",
       "      <td>1600.058504</td>\n",
       "      <td>0.0</td>\n",
       "      <td>0.0</td>\n",
       "      <td>0.0</td>\n",
       "      <td>407.75</td>\n",
       "      <td>69218.0</td>\n",
       "    </tr>\n",
       "  </tbody>\n",
       "</table>\n",
       "</div>"
      ],
      "text/plain": [
       "        length                                                                \n",
       "         count         mean          std  min    25%    50%      75%       max\n",
       "label                                                                         \n",
       "ham    19088.0  1685.631444  6243.643447  4.0  288.0  730.0  1612.00  266848.0\n",
       "spam   32974.0   525.456663  1600.058504  0.0    0.0    0.0   407.75   69218.0"
      ]
     },
     "execution_count": 21,
     "metadata": {},
     "output_type": "execute_result"
    }
   ],
   "source": [
    "emails_df.groupby('label').describe()"
   ]
  },
  {
   "cell_type": "code",
   "execution_count": 22,
   "metadata": {},
   "outputs": [
    {
     "data": {
      "text/plain": [
       "Date        392\n",
       "From         16\n",
       "To         1455\n",
       "Subject     142\n",
       "content       0\n",
       "label         0\n",
       "length        0\n",
       "dtype: int64"
      ]
     },
     "execution_count": 22,
     "metadata": {},
     "output_type": "execute_result"
    }
   ],
   "source": [
    "emails_df.isnull().sum()"
   ]
  },
  {
   "cell_type": "code",
   "execution_count": 23,
   "metadata": {},
   "outputs": [],
   "source": [
    "emails_df.label.replace('spam', 1, inplace=True)\n",
    "emails_df.label.replace('ham', 0, inplace=True)"
   ]
  },
  {
   "cell_type": "code",
   "execution_count": 24,
   "metadata": {},
   "outputs": [
    {
     "data": {
      "text/plain": [
       "Text(0.5, 1.0, 'Spam vs Ham')"
      ]
     },
     "execution_count": 24,
     "metadata": {},
     "output_type": "execute_result"
    },
    {
     "data": {
      "image/png": "[encoded data removed]",
      "text/plain": [
       "<Figure size 432x288 with 1 Axes>"
      ]
     },
     "metadata": {},
     "output_type": "display_data"
    }
   ],
   "source": [
    "sns.countplot(x = \"label\", data = emails_df)\n",
    "emails_df.loc[:, 'label'].value_counts()\n",
    "plt.title('Spam vs Ham')"
   ]
  },
  {
   "cell_type": "code",
   "execution_count": 25,
   "metadata": {},
   "outputs": [],
   "source": [
    "def text_process(mess):\n",
    "    \"\"\"\n",
    "    Takes in a string of text, then performs the following:\n",
    "    1. Remove all punctuation\n",
    "    2. Remove all stopwords\n",
    "    3. Returns a list of the cleaned text\n",
    "    \"\"\"\n",
    "    # Check characters to see if they are in punctuation\n",
    "    nopunc = [char for char in mess if char not in string.punctuation]\n",
    "\n",
    "    # Join the characters again to form the string.\n",
    "    nopunc = ''.join(nopunc)\n",
    "    \n",
    "    # Now just remove any stopwords\n",
    "    return [word for word in nopunc.split() if word.lower() not in stopwords.words('english')]"
   ]
  },
  {
   "cell_type": "code",
   "execution_count": 26,
   "metadata": {},
   "outputs": [],
   "source": [
    "from sklearn.model_selection import train_test_split\n",
    "X_train, X_test, y_train, y_test = train_test_split(emails_df['content'], emails_df['label'], test_size = 0.25, random_state = 37)"
   ]
  },
  {
   "cell_type": "code",
   "execution_count": 27,
   "metadata": {},
   "outputs": [],
   "source": [
    "cv = CountVectorizer(analyzer=text_process)"
   ]
  },
  {
   "cell_type": "code",
   "execution_count": 28,
   "metadata": {},
   "outputs": [],
   "source": [
    "cf_train = cv.fit(X_train)"
   ]
  },
  {
   "cell_type": "code",
   "execution_count": 30,
   "metadata": {},
   "outputs": [],
   "source": [
    "X_train_cv = cv.transform(X_train)\n",
    "X_test_cv = cv.transform(X_test)"
   ]
  },
  {
   "cell_type": "code",
   "execution_count": 31,
   "metadata": {},
   "outputs": [],
   "source": [
    "from sklearn.naive_bayes import MultinomialNB\n",
    "mb = MultinomialNB(alpha = 0.5)\n",
    "#print (X_train_cv.shape, y_train.shape)\n",
    "mb.fit(X_train_cv,y_train)\n",
    "y_pred = mb.predict(X_test_cv)"
   ]
  },
  {
   "cell_type": "code",
   "execution_count": 32,
   "metadata": {},
   "outputs": [
    {
     "name": "stdout",
     "output_type": "stream",
     "text": [
      "Naive Bayes Accuracy:  0.9887830362630609\n",
      "Naive Bayes confusion_matrix: \n",
      " [[4767   91]\n",
      " [  55 8103]]\n",
      "Precision: 0.9932581515077225\n"
     ]
    }
   ],
   "source": [
    "from sklearn.metrics import confusion_matrix, accuracy_score, precision_score\n",
    "print('Naive Bayes Accuracy: ', accuracy_score( y_pred , y_test))\n",
    "print('Naive Bayes confusion_matrix: \\n', confusion_matrix(y_pred, y_test))\n",
    "print('Precision:', precision_score(y_test,y_pred))"
   ]
  },
  {
   "cell_type": "code",
   "execution_count": 33,
   "metadata": {},
   "outputs": [],
   "source": [
    "bow_data = cf_train.transform(emails_df['content'])"
   ]
  },
  {
   "cell_type": "code",
   "execution_count": 34,
   "metadata": {},
   "outputs": [],
   "source": [
    "from sklearn.feature_extraction.text import TfidfTransformer\n",
    "tfidf_transformer = TfidfTransformer().fit(bow_data)"
   ]
  },
  {
   "cell_type": "code",
   "execution_count": 35,
   "metadata": {},
   "outputs": [],
   "source": [
    "data_tfidf = tfidf_transformer.transform(bow_data)\n"
   ]
  },
  {
   "cell_type": "code",
   "execution_count": 36,
   "metadata": {},
   "outputs": [
    {
     "data": {
      "text/plain": [
       "(52062, 190386)"
      ]
     },
     "execution_count": 36,
     "metadata": {},
     "output_type": "execute_result"
    }
   ],
   "source": [
    "import numpy as np\n",
    "np.shape(data_tfidf)"
   ]
  },
  {
   "cell_type": "code",
   "execution_count": 37,
   "metadata": {},
   "outputs": [],
   "source": [
    "from sklearn.model_selection import train_test_split\n",
    "\n",
    "data_tfidf_train, data_tfidf_test, label_train, label_test = train_test_split(data_tfidf, emails_df[\"label\"], test_size=0.3, random_state=5)\n",
    "#data_tfidf_train\n",
    "#data_tfidf_test"
   ]
  },
  {
   "cell_type": "code",
   "execution_count": 38,
   "metadata": {},
   "outputs": [],
   "source": [
    "from sklearn.preprocessing import MaxAbsScaler\n",
    "scaler = MaxAbsScaler()\n",
    "data_tfidf_train_sc = scaler.fit_transform(data_tfidf_train)\n",
    "data_tfidf_test_sc  = scaler.transform(data_tfidf_test)"
   ]
  },
  {
   "cell_type": "code",
   "execution_count": 39,
   "metadata": {},
   "outputs": [
    {
     "name": "stdout",
     "output_type": "stream",
     "text": [
      "0.9921890005762213\n"
     ]
    }
   ],
   "source": [
    "spam_detect_model = mb.fit(data_tfidf_train, label_train)\n",
    "pred_test_MNB = spam_detect_model.predict(data_tfidf_test)\n",
    "acc_MNB = accuracy_score(label_test, pred_test_MNB)\n",
    "print(acc_MNB)"
   ]
  },
  {
   "cell_type": "code",
   "execution_count": null,
   "metadata": {},
   "outputs": [],
   "source": []
  }
 ],
 "metadata": {
  "kernelspec": {
   "display_name": "Python 3",
   "language": "python",
   "name": "python3"
  },
  "language_info": {
   "codemirror_mode": {
    "name": "ipython",
    "version": 3
   },
   "file_extension": ".py",
   "mimetype": "text/x-python",
   "name": "python",
   "nbconvert_exporter": "python",
   "pygments_lexer": "ipython3",
   "version": "3.7.4"
  }
 },
 "nbformat": 4,
 "nbformat_minor": 2
}
